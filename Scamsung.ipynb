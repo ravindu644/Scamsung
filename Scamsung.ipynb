{
  "cells": [
    {
      "cell_type": "markdown",
      "metadata": {
        "id": "26XqRPjmLuzU"
      },
      "source": [
        "**Yet another Samsung device firmware extractor. Copies output files to Google Drive, getting necessary files to root with Magisk, and provides essential device files for developers.**\n",
        "\n",
        "(Click the little ▶️ Button to run)"
      ]
    },
    {
      "cell_type": "code",
      "execution_count": null,
      "metadata": {
        "id": "tZWABDspLr_K"
      },
      "outputs": [],
      "source": [
        "!export setup_dir=$(pwd); curl -LSs https://raw.githubusercontent.com/ravindu644/Scamsung/Samsung/setup.sh | bash && bash \"${setup_dir}/Scamsung/scamsung.sh\""
      ]
    },
    {
      "cell_type": "markdown",
      "metadata": {
        "id": "ik6isBGkMZ35"
      },
      "source": [
        "**Mounting the Google Drive**"
      ]
    },
    {
      "cell_type": "code",
      "execution_count": null,
      "metadata": {
        "id": "qLr7pxDXMZTq"
      },
      "outputs": [],
      "source": [
        "from google.colab import drive\n",
        "drive.mount('/content/drive')"
      ]
    },
    {
      "cell_type": "markdown",
      "metadata": {
        "id": "bqbZpHUtMjTy"
      },
      "source": [
        "**Copying the Output files to your Google Drive**"
      ]
    },
    {
      "cell_type": "code",
      "execution_count": 4,
      "metadata": {
        "id": "2jW2Nxn6MouI"
      },
      "outputs": [],
      "source": [
        "!cp -r output /content/drive/MyDrive"
      ]
    }
  ],
  "metadata": {
    "colab": {
      "provenance": []
    },
    "kernelspec": {
      "display_name": "Python 3",
      "name": "python3"
    },
    "language_info": {
      "name": "python"
    }
  },
  "nbformat": 4,
  "nbformat_minor": 0
}
